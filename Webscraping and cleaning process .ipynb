{
 "cells": [
  {
   "cell_type": "code",
   "execution_count": null,
   "id": "8eda45a1",
   "metadata": {},
   "outputs": [],
   "source": [
    "Survey Dataset Exploration Lab\n",
    "Objectives\n",
    "After completing this lab you will be able to:\n",
    "\n",
    "Load the dataset that will used thru the capstone project.\n",
    "Explore the dataset.\n",
    "Get familier with the data types.\n",
    "Load the dataset\n",
    "Import the required libraries."
   ]
  },
  {
   "cell_type": "code",
   "execution_count": 5,
   "id": "268a27ef",
   "metadata": {},
   "outputs": [
    {
     "name": "stdout",
     "output_type": "stream",
     "text": [
      "   Respondent                      MainBranch Hobbyist  \\\n",
      "0           4  I am a developer by profession       No   \n",
      "1           9  I am a developer by profession      Yes   \n",
      "2          13  I am a developer by profession      Yes   \n",
      "3          16  I am a developer by profession      Yes   \n",
      "4          17  I am a developer by profession      Yes   \n",
      "\n",
      "                                         OpenSourcer  \\\n",
      "0                                              Never   \n",
      "1                         Once a month or more often   \n",
      "2  Less than once a month but more than once per ...   \n",
      "3                                              Never   \n",
      "4  Less than once a month but more than once per ...   \n",
      "\n",
      "                                          OpenSource          Employment  \\\n",
      "0  The quality of OSS and closed source software ...  Employed full-time   \n",
      "1  The quality of OSS and closed source software ...  Employed full-time   \n",
      "2  OSS is, on average, of HIGHER quality than pro...  Employed full-time   \n",
      "3  The quality of OSS and closed source software ...  Employed full-time   \n",
      "4  The quality of OSS and closed source software ...  Employed full-time   \n",
      "\n",
      "          Country Student                                            EdLevel  \\\n",
      "0   United States      No           Bachelor’s degree (BA, BS, B.Eng., etc.)   \n",
      "1     New Zealand      No  Some college/university study without earning ...   \n",
      "2   United States      No        Master’s degree (MA, MS, M.Eng., MBA, etc.)   \n",
      "3  United Kingdom      No        Master’s degree (MA, MS, M.Eng., MBA, etc.)   \n",
      "4       Australia      No           Bachelor’s degree (BA, BS, B.Eng., etc.)   \n",
      "\n",
      "                                      UndergradMajor  ...  \\\n",
      "0  Computer science, computer engineering, or sof...  ...   \n",
      "1  Computer science, computer engineering, or sof...  ...   \n",
      "2  Computer science, computer engineering, or sof...  ...   \n",
      "3                                                NaN  ...   \n",
      "4  Computer science, computer engineering, or sof...  ...   \n",
      "\n",
      "                              WelcomeChange  \\\n",
      "0   Just as welcome now as I felt last year   \n",
      "1   Just as welcome now as I felt last year   \n",
      "2  Somewhat more welcome now than last year   \n",
      "3   Just as welcome now as I felt last year   \n",
      "4   Just as welcome now as I felt last year   \n",
      "\n",
      "                                        SONewContent   Age Gender Trans  \\\n",
      "0  Tech articles written by other developers;Indu...  22.0    Man    No   \n",
      "1                                                NaN  23.0    Man    No   \n",
      "2  Tech articles written by other developers;Cour...  28.0    Man    No   \n",
      "3  Tech articles written by other developers;Indu...  26.0    Man    No   \n",
      "4  Tech articles written by other developers;Indu...  29.0    Man    No   \n",
      "\n",
      "                 Sexuality                              Ethnicity Dependents  \\\n",
      "0  Straight / Heterosexual           White or of European descent         No   \n",
      "1                 Bisexual           White or of European descent         No   \n",
      "2  Straight / Heterosexual           White or of European descent        Yes   \n",
      "3  Straight / Heterosexual           White or of European descent         No   \n",
      "4  Straight / Heterosexual  Hispanic or Latino/Latina;Multiracial         No   \n",
      "\n",
      "            SurveyLength                  SurveyEase  \n",
      "0  Appropriate in length                        Easy  \n",
      "1  Appropriate in length  Neither easy nor difficult  \n",
      "2  Appropriate in length                        Easy  \n",
      "3  Appropriate in length  Neither easy nor difficult  \n",
      "4  Appropriate in length                        Easy  \n",
      "\n",
      "[5 rows x 85 columns]\n"
     ]
    }
   ],
   "source": [
    "import pandas as pd\n",
    "\n",
    "dataset_url = \"https://cf-courses-data.s3.us.cloud-object-storage.appdomain.cloud/IBM-DA0321EN-SkillsNetwork/LargeData/m1_survey_data.csv\"\n",
    "df = pd.read_csv(dataset_url)\n",
    "\n",
    "# Now you can use the head() method on the DataFrame\n",
    "print(df.head())\n"
   ]
  },
  {
   "cell_type": "code",
   "execution_count": 6,
   "id": "611280dc",
   "metadata": {},
   "outputs": [
    {
     "data": {
      "text/plain": [
       "(11552, 85)"
      ]
     },
     "execution_count": 6,
     "metadata": {},
     "output_type": "execute_result"
    }
   ],
   "source": [
    "#Explore the data set\n",
    "print(df.head())\n",
    "\n"
   ]
  },
  {
   "cell_type": "code",
   "execution_count": 7,
   "id": "6f082d14",
   "metadata": {},
   "outputs": [
    {
     "name": "stdout",
     "output_type": "stream",
     "text": [
      "(11552, 85)\n"
     ]
    }
   ],
   "source": [
    "#Find out the number of rows and columnsprin\n",
    "\n",
    "print(df.shape)"
   ]
  },
  {
   "cell_type": "code",
   "execution_count": 8,
   "id": "bba14698",
   "metadata": {},
   "outputs": [
    {
     "name": "stdout",
     "output_type": "stream",
     "text": [
      "Respondent       int64\n",
      "MainBranch      object\n",
      "Hobbyist        object\n",
      "OpenSourcer     object\n",
      "OpenSource      object\n",
      "                 ...  \n",
      "Sexuality       object\n",
      "Ethnicity       object\n",
      "Dependents      object\n",
      "SurveyLength    object\n",
      "SurveyEase      object\n",
      "Length: 85, dtype: object\n"
     ]
    }
   ],
   "source": [
    "#Identify the data types of each column\n",
    "print(df.dtypes)"
   ]
  },
  {
   "cell_type": "code",
   "execution_count": 9,
   "id": "a879e71b",
   "metadata": {},
   "outputs": [
    {
     "name": "stdout",
     "output_type": "stream",
     "text": [
      "Mean Age of Survey Participants: 30.77239449133718\n"
     ]
    }
   ],
   "source": [
    "mean_age = df['Age'].mean()\n",
    "\n",
    "# Print the mean age\n",
    "print(\"Mean Age of Survey Participants:\", mean_age)"
   ]
  },
  {
   "cell_type": "code",
   "execution_count": 11,
   "id": "1c4f38a1",
   "metadata": {},
   "outputs": [
    {
     "name": "stdout",
     "output_type": "stream",
     "text": [
      "<class 'pandas.core.frame.DataFrame'>\n",
      "RangeIndex: 11552 entries, 0 to 11551\n",
      "Data columns (total 85 columns):\n",
      " #   Column                  Non-Null Count  Dtype  \n",
      "---  ------                  --------------  -----  \n",
      " 0   Respondent              11552 non-null  int64  \n",
      " 1   MainBranch              11552 non-null  object \n",
      " 2   Hobbyist                11552 non-null  object \n",
      " 3   OpenSourcer             11552 non-null  object \n",
      " 4   OpenSource              11471 non-null  object \n",
      " 5   Employment              11552 non-null  object \n",
      " 6   Country                 11552 non-null  object \n",
      " 7   Student                 11499 non-null  object \n",
      " 8   EdLevel                 11436 non-null  object \n",
      " 9   UndergradMajor          10812 non-null  object \n",
      " 10  EduOther                11388 non-null  object \n",
      " 11  OrgSize                 11454 non-null  object \n",
      " 12  DevType                 11485 non-null  object \n",
      " 13  YearsCode               11543 non-null  object \n",
      " 14  Age1stCode              11539 non-null  object \n",
      " 15  YearsCodePro            11536 non-null  object \n",
      " 16  CareerSat               11552 non-null  object \n",
      " 17  JobSat                  11551 non-null  object \n",
      " 18  MgrIdiot                11054 non-null  object \n",
      " 19  MgrMoney                11050 non-null  object \n",
      " 20  MgrWant                 11054 non-null  object \n",
      " 21  JobSeek                 11552 non-null  object \n",
      " 22  LastHireDate            11552 non-null  object \n",
      " 23  LastInt                 11129 non-null  object \n",
      " 24  FizzBuzz                11515 non-null  object \n",
      " 25  JobFactors              11549 non-null  object \n",
      " 26  ResumeUpdate            11511 non-null  object \n",
      " 27  CurrencySymbol          11552 non-null  object \n",
      " 28  CurrencyDesc            11552 non-null  object \n",
      " 29  CompTotal               10737 non-null  float64\n",
      " 30  CompFreq                11346 non-null  object \n",
      " 31  ConvertedComp           10730 non-null  float64\n",
      " 32  WorkWeekHrs             11427 non-null  float64\n",
      " 33  WorkPlan                11429 non-null  object \n",
      " 34  WorkChallenge           11384 non-null  object \n",
      " 35  WorkRemote              11544 non-null  object \n",
      " 36  WorkLoc                 11520 non-null  object \n",
      " 37  ImpSyn                  11547 non-null  object \n",
      " 38  CodeRev                 11551 non-null  object \n",
      " 39  CodeRevHrs              9083 non-null   float64\n",
      " 40  UnitTests               11523 non-null  object \n",
      " 41  PurchaseHow             11354 non-null  object \n",
      " 42  PurchaseWhat            11514 non-null  object \n",
      " 43  LanguageWorkedWith      11541 non-null  object \n",
      " 44  LanguageDesireNextYear  11415 non-null  object \n",
      " 45  DatabaseWorkedWith      11096 non-null  object \n",
      " 46  DatabaseDesireNextYear  10497 non-null  object \n",
      " 47  PlatformWorkedWith      11130 non-null  object \n",
      " 48  PlatformDesireNextYear  10991 non-null  object \n",
      " 49  WebFrameWorkedWith      10139 non-null  object \n",
      " 50  WebFrameDesireNextYear  9918 non-null   object \n",
      " 51  MiscTechWorkedWith      9343 non-null   object \n",
      " 52  MiscTechDesireNextYear  10078 non-null  object \n",
      " 53  DevEnviron              11523 non-null  object \n",
      " 54  OpSys                   11518 non-null  object \n",
      " 55  Containers              11470 non-null  object \n",
      " 56  BlockchainOrg           9198 non-null   object \n",
      " 57  BlockchainIs            8915 non-null   object \n",
      " 58  BetterLife              11452 non-null  object \n",
      " 59  ITperson                11517 non-null  object \n",
      " 60  OffOn                   11514 non-null  object \n",
      " 61  SocialMedia             11251 non-null  object \n",
      " 62  Extraversion            11532 non-null  object \n",
      " 63  ScreenName              11039 non-null  object \n",
      " 64  SOVisit1st              11227 non-null  object \n",
      " 65  SOVisitFreq             11547 non-null  object \n",
      " 66  SOVisitTo               11551 non-null  object \n",
      " 67  SOFindAnswer            11549 non-null  object \n",
      " 68  SOTimeSaved             11501 non-null  object \n",
      " 69  SOHowMuchTime           9616 non-null   object \n",
      " 70  SOAccount               11551 non-null  object \n",
      " 71  SOPartFreq              10404 non-null  object \n",
      " 72  SOJobs                  11546 non-null  object \n",
      " 73  EntTeams                11547 non-null  object \n",
      " 74  SOComm                  11552 non-null  object \n",
      " 75  WelcomeChange           11463 non-null  object \n",
      " 76  SONewContent            9557 non-null   object \n",
      " 77  Age                     11255 non-null  float64\n",
      " 78  Gender                  11477 non-null  object \n",
      " 79  Trans                   11429 non-null  object \n",
      " 80  Sexuality               11005 non-null  object \n",
      " 81  Ethnicity               10869 non-null  object \n",
      " 82  Dependents              11408 non-null  object \n",
      " 83  SurveyLength            11533 non-null  object \n",
      " 84  SurveyEase              11538 non-null  object \n",
      "dtypes: float64(5), int64(1), object(79)\n",
      "memory usage: 7.5+ MB\n"
     ]
    }
   ],
   "source": [
    "df.info()"
   ]
  },
  {
   "cell_type": "code",
   "execution_count": 13,
   "id": "5d498794",
   "metadata": {},
   "outputs": [
    {
     "data": {
      "text/plain": [
       "135"
      ]
     },
     "execution_count": 13,
     "metadata": {},
     "output_type": "execute_result"
    }
   ],
   "source": [
    "#unique_countries \n",
    "unique_countries = df['Country'].nunique()\n",
    "unique_countries "
   ]
  },
  {
   "cell_type": "code",
   "execution_count": 15,
   "id": "12ddb906",
   "metadata": {},
   "outputs": [
    {
     "data": {
      "text/plain": [
       "154"
      ]
     },
     "execution_count": 15,
     "metadata": {},
     "output_type": "execute_result"
    }
   ],
   "source": [
    "#How many rows duplicate values? \n",
    "duplicate_rows = df.duplicated().sum()\n",
    "duplicate_rows "
   ]
  },
  {
   "cell_type": "code",
   "execution_count": 16,
   "id": "1236a5d2",
   "metadata": {},
   "outputs": [
    {
     "name": "stdout",
     "output_type": "stream",
     "text": [
      "Number of Duplicate Values in 'Respondent' column: 154\n"
     ]
    }
   ],
   "source": [
    "#How many duplicate values are there in the column Respondent? \n",
    "# Assuming you've already loaded the CSV data into the DataFrame 'df'\n",
    "duplicate_respondents = df['Respondent'].duplicated().sum()\n",
    "\n",
    "# Print the number of duplicate values in the 'Respondent' column\n",
    "print(\"Number of Duplicate Values in 'Respondent' column:\", duplicate_respondents)"
   ]
  },
  {
   "cell_type": "code",
   "execution_count": 17,
   "id": "25dccb49",
   "metadata": {},
   "outputs": [
    {
     "name": "stdout",
     "output_type": "stream",
     "text": [
      "Shape of DataFrame after removing duplicates: (11398, 85)\n"
     ]
    }
   ],
   "source": [
    "# Removing duplicate \n",
    "df_no_duplicates = df.drop_duplicates()\n",
    "print(\"Shape of DataFrame after removing duplicates:\", df_no_duplicates.shape)"
   ]
  },
  {
   "cell_type": "code",
   "execution_count": 18,
   "id": "23239056",
   "metadata": {},
   "outputs": [
    {
     "name": "stdout",
     "output_type": "stream",
     "text": [
      "Total Missing Values in the DataFrame: 31381\n"
     ]
    }
   ],
   "source": [
    "# finding missing Value \n",
    "\n",
    "total_missing_values = df.isnull().sum().sum()\n",
    "print(\"Total Missing Values in the DataFrame:\", total_missing_values)\n"
   ]
  },
  {
   "cell_type": "code",
   "execution_count": 19,
   "id": "08fd3dbb",
   "metadata": {},
   "outputs": [
    {
     "name": "stdout",
     "output_type": "stream",
     "text": [
      "Number of Missing Rows in 'WorkLoc' column: 32\n"
     ]
    }
   ],
   "source": [
    "missing_rows_workloc = df['WorkLoc'].isnull().sum()\n",
    "\n",
    "# Print the number of missing rows in the 'WorkLoc' column\n",
    "print(\"Number of Missing Rows in 'WorkLoc' column:\", missing_rows_workloc)"
   ]
  },
  {
   "cell_type": "code",
   "execution_count": 20,
   "id": "996256e3",
   "metadata": {},
   "outputs": [
    {
     "name": "stdout",
     "output_type": "stream",
     "text": [
      "Categories in 'CompFreq' column: ['Yearly' 'Monthly' 'Weekly' nan]\n"
     ]
    }
   ],
   "source": [
    "#List out the various categories in the column 'CompFreq'\n",
    "\n",
    "comp_freq_categories = df['CompFreq'].unique()\n",
    "\n",
    "# Print the various categories in the 'CompFreq' column\n",
    "print(\"Categories in 'CompFreq' column:\", comp_freq_categories)"
   ]
  },
  {
   "cell_type": "code",
   "execution_count": 21,
   "id": "17352e93",
   "metadata": {},
   "outputs": [
    {
     "name": "stdout",
     "output_type": "stream",
     "text": [
      "   Respondent                      MainBranch Hobbyist  \\\n",
      "0           4  I am a developer by profession       No   \n",
      "1           9  I am a developer by profession      Yes   \n",
      "2          13  I am a developer by profession      Yes   \n",
      "3          16  I am a developer by profession      Yes   \n",
      "4          17  I am a developer by profession      Yes   \n",
      "\n",
      "                                         OpenSourcer  \\\n",
      "0                                              Never   \n",
      "1                         Once a month or more often   \n",
      "2  Less than once a month but more than once per ...   \n",
      "3                                              Never   \n",
      "4  Less than once a month but more than once per ...   \n",
      "\n",
      "                                          OpenSource          Employment  \\\n",
      "0  The quality of OSS and closed source software ...  Employed full-time   \n",
      "1  The quality of OSS and closed source software ...  Employed full-time   \n",
      "2  OSS is, on average, of HIGHER quality than pro...  Employed full-time   \n",
      "3  The quality of OSS and closed source software ...  Employed full-time   \n",
      "4  The quality of OSS and closed source software ...  Employed full-time   \n",
      "\n",
      "          Country Student                                            EdLevel  \\\n",
      "0   United States      No           Bachelor’s degree (BA, BS, B.Eng., etc.)   \n",
      "1     New Zealand      No  Some college/university study without earning ...   \n",
      "2   United States      No        Master’s degree (MA, MS, M.Eng., MBA, etc.)   \n",
      "3  United Kingdom      No        Master’s degree (MA, MS, M.Eng., MBA, etc.)   \n",
      "4       Australia      No           Bachelor’s degree (BA, BS, B.Eng., etc.)   \n",
      "\n",
      "                                      UndergradMajor  ...  \\\n",
      "0  Computer science, computer engineering, or sof...  ...   \n",
      "1  Computer science, computer engineering, or sof...  ...   \n",
      "2  Computer science, computer engineering, or sof...  ...   \n",
      "3                                                NaN  ...   \n",
      "4  Computer science, computer engineering, or sof...  ...   \n",
      "\n",
      "                                        SONewContent   Age Gender Trans  \\\n",
      "0  Tech articles written by other developers;Indu...  22.0    Man    No   \n",
      "1                                                NaN  23.0    Man    No   \n",
      "2  Tech articles written by other developers;Cour...  28.0    Man    No   \n",
      "3  Tech articles written by other developers;Indu...  26.0    Man    No   \n",
      "4  Tech articles written by other developers;Indu...  29.0    Man    No   \n",
      "\n",
      "                 Sexuality                              Ethnicity Dependents  \\\n",
      "0  Straight / Heterosexual           White or of European descent         No   \n",
      "1                 Bisexual           White or of European descent         No   \n",
      "2  Straight / Heterosexual           White or of European descent        Yes   \n",
      "3  Straight / Heterosexual           White or of European descent         No   \n",
      "4  Straight / Heterosexual  Hispanic or Latino/Latina;Multiracial         No   \n",
      "\n",
      "            SurveyLength                  SurveyEase  \\\n",
      "0  Appropriate in length                        Easy   \n",
      "1  Appropriate in length  Neither easy nor difficult   \n",
      "2  Appropriate in length                        Easy   \n",
      "3  Appropriate in length  Neither easy nor difficult   \n",
      "4  Appropriate in length                        Easy   \n",
      "\n",
      "  NormalizedAnnualCompensation  \n",
      "0                      61000.0  \n",
      "1                     138000.0  \n",
      "2                      90000.0  \n",
      "3                     348000.0  \n",
      "4                      90000.0  \n",
      "\n",
      "[5 rows x 86 columns]\n"
     ]
    }
   ],
   "source": [
    "#Create a new column named 'NormalizedAnnualCompensation'. Use the hint given below if needed.\n",
    "# Create a new column 'NormalizedAnnualCompensation'\n",
    "df['NormalizedAnnualCompensation'] = df.apply(lambda row: row['CompTotal'] * 12 if row['CompFreq'] == 'Monthly' else (row['CompTotal'] * 52 if row['CompFreq'] == 'Weekly' else row['CompTotal']), axis=1)\n",
    "\n",
    "# Print the DataFrame with the new column\n",
    "print(df.head())"
   ]
  },
  {
   "cell_type": "code",
   "execution_count": 22,
   "id": "7b20facc",
   "metadata": {},
   "outputs": [
    {
     "data": {
      "text/plain": [
       "11398"
      ]
     },
     "execution_count": 22,
     "metadata": {},
     "output_type": "execute_result"
    }
   ],
   "source": [
    "#unique_countries \n",
    "Respondent = df['Respondent'].nunique()\n",
    "Respondent "
   ]
  },
  {
   "cell_type": "code",
   "execution_count": 23,
   "id": "ec375b64",
   "metadata": {},
   "outputs": [
    {
     "name": "stdout",
     "output_type": "stream",
     "text": [
      "Number of Blank Rows in 'EdLevel' column after removing duplicates: 112\n"
     ]
    }
   ],
   "source": [
    "\n",
    "#Question 1\n",
    "#After removing the duplicate rows, how many blank rows are there under the column EdLevel?\n",
    "df_no_duplicates = df.drop_duplicates()\n",
    "\n",
    "# Count the number of missing values in 'EdLevel' column\n",
    "blank_rows_edlevel = df_no_duplicates['EdLevel'].isnull().sum()\n",
    "\n",
    "# Print the number of blank rows in 'EdLevel' column\n",
    "print(\"Number of Blank Rows in 'EdLevel' column after removing duplicates:\", blank_rows_edlevel)"
   ]
  },
  {
   "cell_type": "code",
   "execution_count": 24,
   "id": "c9e23fd7",
   "metadata": {},
   "outputs": [
    {
     "name": "stdout",
     "output_type": "stream",
     "text": [
      "Number of Missing Rows in 'Country' column after removing duplicates: 0\n"
     ]
    }
   ],
   "source": [
    "#2.Question 2 After removing the duplicate rows, how many rows are missing under the column Country?\n",
    "df_no_duplicates = df.drop_duplicates()\n",
    "\n",
    "# Count the number of missing values in 'Country' column\n",
    "missing_rows_country = df_no_duplicates['Country'].isnull().sum()\n",
    "\n",
    "# Print the number of missing rows in 'Country' column\n",
    "print(\"Number of Missing Rows in 'Country' column after removing duplicates:\", missing_rows_country)"
   ]
  },
  {
   "cell_type": "code",
   "execution_count": 25,
   "id": "a0c5d05a",
   "metadata": {},
   "outputs": [
    {
     "name": "stdout",
     "output_type": "stream",
     "text": [
      "Majority Category in 'Employment' column: Employed full-time\n"
     ]
    }
   ],
   "source": [
    "# What is the majority category under the column Employment?\n",
    "majority_employment_category = df['Employment'].value_counts().idxmax()\n",
    "\n",
    "# Print the majority category in the 'Employment' column\n",
    "print(\"Majority Category in 'Employment' column:\", majority_employment_category)"
   ]
  },
  {
   "cell_type": "code",
   "execution_count": 26,
   "id": "5a816652",
   "metadata": {},
   "outputs": [
    {
     "name": "stdout",
     "output_type": "stream",
     "text": [
      "Category with Minimum Rows in 'UndergradMajor' column: A health science (ex. nursing, pharmacy, radiology)\n"
     ]
    }
   ],
   "source": [
    "#Question 2Under the column \" UndergradMajor\", which category has the minimum number of rows?\n",
    "min_rows_undergrad_major = df['UndergradMajor'].value_counts().idxmin()\n",
    "\n",
    "# Print the category with the minimum number of rows in the 'UndergradMajor' column\n",
    "print(\"Category with Minimum Rows in 'UndergradMajor' column:\", min_rows_undergrad_major)"
   ]
  },
  {
   "cell_type": "code",
   "execution_count": 28,
   "id": "532e6ba5",
   "metadata": {},
   "outputs": [],
   "source": [
    "#3.Question 3The column ‘ConvertedComp’ contains the annual compensation of the survey respondents. What is the best approach to impute the missing values in this column?\n",
    "mean_comp = df['ConvertedComp'].mean()\n",
    "df['ConvertedComp'].fillna(mean_comp, inplace=True)\n"
   ]
  },
  {
   "cell_type": "code",
   "execution_count": 27,
   "id": "efef9b78",
   "metadata": {},
   "outputs": [],
   "source": [
    "df['ConvertedComp'].fillna(method='ffill', inplace=True)  # Forward fill"
   ]
  },
  {
   "cell_type": "code",
   "execution_count": 29,
   "id": "05506a59",
   "metadata": {},
   "outputs": [
    {
     "name": "stdout",
     "output_type": "stream",
     "text": [
      "Number of Unique Values in 'CompFreq' column: 3\n"
     ]
    }
   ],
   "source": [
    "unique_comp_freq_values = df['CompFreq'].nunique()\n",
    "\n",
    "# Print the number of unique values in the 'CompFreq' column\n",
    "print(\"Number of Unique Values in 'CompFreq' column:\", unique_comp_freq_values)"
   ]
  },
  {
   "cell_type": "code",
   "execution_count": 30,
   "id": "ae970a5c",
   "metadata": {},
   "outputs": [
    {
     "name": "stdout",
     "output_type": "stream",
     "text": [
      "Number of Respondents Being Paid Yearly: 6073\n"
     ]
    }
   ],
   "source": [
    "#After removing the duplicate rows, how many respondents are being paid yearly?\n",
    "df_no_duplicates = df.drop_duplicates()\n",
    "\n",
    "# Count the number of respondents being paid yearly\n",
    "yearly_paid_count = df_no_duplicates[df_no_duplicates['CompFreq'] == 'Yearly'].shape[0]\n",
    "\n",
    "# Print the number of respondents being paid yearly\n",
    "print(\"Number of Respondents Being Paid Yearly:\", yearly_paid_count)"
   ]
  },
  {
   "cell_type": "code",
   "execution_count": 31,
   "id": "ff693956",
   "metadata": {},
   "outputs": [
    {
     "name": "stdout",
     "output_type": "stream",
     "text": [
      "Median NormalizedAnnualCompensation: 100000.0\n"
     ]
    }
   ],
   "source": [
    "#What is the median NormalizedAnnualCompensation?    \n",
    "median_normalized_compensation = df['NormalizedAnnualCompensation'].median()\n",
    "\n",
    "# Print the median NormalizedAnnualCompensation\n",
    "print(\"Median NormalizedAnnualCompensation:\", median_normalized_compensation)\n"
   ]
  },
  {
   "cell_type": "code",
   "execution_count": null,
   "id": "e0c47f14",
   "metadata": {},
   "outputs": [],
   "source": []
  }
 ],
 "metadata": {
  "kernelspec": {
   "display_name": "Python 3 (ipykernel)",
   "language": "python",
   "name": "python3"
  },
  "language_info": {
   "codemirror_mode": {
    "name": "ipython",
    "version": 3
   },
   "file_extension": ".py",
   "mimetype": "text/x-python",
   "name": "python",
   "nbconvert_exporter": "python",
   "pygments_lexer": "ipython3",
   "version": "3.11.4"
  }
 },
 "nbformat": 4,
 "nbformat_minor": 5
}
